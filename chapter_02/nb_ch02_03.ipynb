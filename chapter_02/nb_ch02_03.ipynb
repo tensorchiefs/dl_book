{
  "nbformat": 4,
  "nbformat_minor": 0,
  "metadata": {
    "colab": {
      "name": "nb_ch02_03.ipynb",
      "provenance": [],
      "collapsed_sections": []
    },
    "language_info": {
      "codemirror_mode": {
        "name": "ipython",
        "version": 3
      },
      "file_extension": ".py",
      "mimetype": "text/x-python",
      "name": "python",
      "nbconvert_exporter": "python",
      "pygments_lexer": "ipython3",
      "version": "3.5.2"
    },
    "kernelspec": {
      "display_name": "Python 3",
      "language": "python",
      "name": "python3"
    },
    "accelerator": "GPU"
  },
  "cells": [
    {
      "cell_type": "markdown",
      "metadata": {
        "colab_type": "text",
        "id": "4K8Ug6ICkRtQ"
      },
      "source": [
        "# A simple CNN for the edge lover task\n",
        "\n",
        "**Goal:** In this notebook you train a very simple CNN with only 1 kernel to discriminate images containing vertical from those containing horizontal stripes. To check what pattern is recognized by the learned kernel you will visualize the weights of the kernel as an image. You will see that the CNN learns a useful kernel (either a vertical or horiziontal bar).You can experiment with the code to check the influence of the kernel size, the activation function and the pooling method on the result.  \n",
        "\n",
        "**Usage:** The idea of the notebook is that you try to understand the provided code by running it, checking the output and playing with it by slightly changing the code and rerunning it.  \n",
        "\n",
        "**Dataset:** You work with an artficially generatet dataset of greyscale images (50x50 pixel) with 10 vertical or horizontal bars. We want to classify them into whether or not an art lover will like them(0 or 1).  \n",
        "\n",
        "**Content:**\n",
        "* definig and generating the dataset X_train and X_val\n",
        "* visualize samples of the generated images\n",
        "* use keras to train a CNN with only one kernel (5x5 pixel)\n",
        "* visualize the weights of the leaned kernel and interpret if it is useful\n",
        "* repeat the last two steps to check if the learned kernel is always the same\n",
        "\n",
        "\n",
        "| [open in colab](https://colab.research.google.com/github/tensorchiefs/dl_book/blob/master/chapter_02/nb_ch02_03.ipynb)\n"
      ]
    },
    {
      "cell_type": "markdown",
      "metadata": {
        "id": "EbSb8w3u5eZP",
        "colab_type": "text"
      },
      "source": [
        "#### Install correct TF version (colab only)"
      ]
    },
    {
      "cell_type": "code",
      "metadata": {
        "id": "HvWrcj1O5dfR",
        "colab_type": "code",
        "colab": {
          "base_uri": "https://localhost:8080/",
          "height": 629
        },
        "outputId": "8612b46b-15f8-4fe5-98d4-0f22fa68f181"
      },
      "source": [
        "# Execute this cell to be sure to have a compatible TF (2.0) version. \n",
        "# If you are bold you can skip this cell. \n",
        "try: #If running in colab \n",
        "  import google.colab\n",
        "  !pip install tensorflow==2.0.0\n",
        "except:\n",
        "  print('Not running in colab')"
      ],
      "execution_count": 1,
      "outputs": [
        {
          "output_type": "stream",
          "text": [
            "Requirement already satisfied: tensorflow==2.0.0 in /usr/local/lib/python3.6/dist-packages (2.0.0)\n",
            "Requirement already satisfied: tensorboard<2.1.0,>=2.0.0 in /usr/local/lib/python3.6/dist-packages (from tensorflow==2.0.0) (2.0.2)\n",
            "Requirement already satisfied: wrapt>=1.11.1 in /usr/local/lib/python3.6/dist-packages (from tensorflow==2.0.0) (1.12.1)\n",
            "Requirement already satisfied: tensorflow-estimator<2.1.0,>=2.0.0 in /usr/local/lib/python3.6/dist-packages (from tensorflow==2.0.0) (2.0.1)\n",
            "Requirement already satisfied: grpcio>=1.8.6 in /usr/local/lib/python3.6/dist-packages (from tensorflow==2.0.0) (1.31.0)\n",
            "Requirement already satisfied: keras-preprocessing>=1.0.5 in /usr/local/lib/python3.6/dist-packages (from tensorflow==2.0.0) (1.1.2)\n",
            "Requirement already satisfied: astor>=0.6.0 in /usr/local/lib/python3.6/dist-packages (from tensorflow==2.0.0) (0.8.1)\n",
            "Requirement already satisfied: protobuf>=3.6.1 in /usr/local/lib/python3.6/dist-packages (from tensorflow==2.0.0) (3.12.4)\n",
            "Requirement already satisfied: wheel>=0.26 in /usr/local/lib/python3.6/dist-packages (from tensorflow==2.0.0) (0.35.1)\n",
            "Requirement already satisfied: termcolor>=1.1.0 in /usr/local/lib/python3.6/dist-packages (from tensorflow==2.0.0) (1.1.0)\n",
            "Requirement already satisfied: numpy<2.0,>=1.16.0 in /usr/local/lib/python3.6/dist-packages (from tensorflow==2.0.0) (1.18.5)\n",
            "Requirement already satisfied: gast==0.2.2 in /usr/local/lib/python3.6/dist-packages (from tensorflow==2.0.0) (0.2.2)\n",
            "Requirement already satisfied: six>=1.10.0 in /usr/local/lib/python3.6/dist-packages (from tensorflow==2.0.0) (1.15.0)\n",
            "Requirement already satisfied: opt-einsum>=2.3.2 in /usr/local/lib/python3.6/dist-packages (from tensorflow==2.0.0) (3.3.0)\n",
            "Requirement already satisfied: google-pasta>=0.1.6 in /usr/local/lib/python3.6/dist-packages (from tensorflow==2.0.0) (0.2.0)\n",
            "Requirement already satisfied: absl-py>=0.7.0 in /usr/local/lib/python3.6/dist-packages (from tensorflow==2.0.0) (0.8.1)\n",
            "Requirement already satisfied: keras-applications>=1.0.8 in /usr/local/lib/python3.6/dist-packages (from tensorflow==2.0.0) (1.0.8)\n",
            "Requirement already satisfied: werkzeug>=0.11.15 in /usr/local/lib/python3.6/dist-packages (from tensorboard<2.1.0,>=2.0.0->tensorflow==2.0.0) (1.0.1)\n",
            "Requirement already satisfied: requests<3,>=2.21.0 in /usr/local/lib/python3.6/dist-packages (from tensorboard<2.1.0,>=2.0.0->tensorflow==2.0.0) (2.23.0)\n",
            "Requirement already satisfied: markdown>=2.6.8 in /usr/local/lib/python3.6/dist-packages (from tensorboard<2.1.0,>=2.0.0->tensorflow==2.0.0) (3.2.2)\n",
            "Requirement already satisfied: google-auth-oauthlib<0.5,>=0.4.1 in /usr/local/lib/python3.6/dist-packages (from tensorboard<2.1.0,>=2.0.0->tensorflow==2.0.0) (0.4.1)\n",
            "Requirement already satisfied: setuptools>=41.0.0 in /usr/local/lib/python3.6/dist-packages (from tensorboard<2.1.0,>=2.0.0->tensorflow==2.0.0) (49.6.0)\n",
            "Requirement already satisfied: google-auth<2,>=1.6.3 in /usr/local/lib/python3.6/dist-packages (from tensorboard<2.1.0,>=2.0.0->tensorflow==2.0.0) (1.17.2)\n",
            "Requirement already satisfied: h5py in /usr/local/lib/python3.6/dist-packages (from keras-applications>=1.0.8->tensorflow==2.0.0) (2.10.0)\n",
            "Requirement already satisfied: chardet<4,>=3.0.2 in /usr/local/lib/python3.6/dist-packages (from requests<3,>=2.21.0->tensorboard<2.1.0,>=2.0.0->tensorflow==2.0.0) (3.0.4)\n",
            "Requirement already satisfied: urllib3!=1.25.0,!=1.25.1,<1.26,>=1.21.1 in /usr/local/lib/python3.6/dist-packages (from requests<3,>=2.21.0->tensorboard<2.1.0,>=2.0.0->tensorflow==2.0.0) (1.24.3)\n",
            "Requirement already satisfied: idna<3,>=2.5 in /usr/local/lib/python3.6/dist-packages (from requests<3,>=2.21.0->tensorboard<2.1.0,>=2.0.0->tensorflow==2.0.0) (2.10)\n",
            "Requirement already satisfied: certifi>=2017.4.17 in /usr/local/lib/python3.6/dist-packages (from requests<3,>=2.21.0->tensorboard<2.1.0,>=2.0.0->tensorflow==2.0.0) (2020.6.20)\n",
            "Requirement already satisfied: importlib-metadata; python_version < \"3.8\" in /usr/local/lib/python3.6/dist-packages (from markdown>=2.6.8->tensorboard<2.1.0,>=2.0.0->tensorflow==2.0.0) (1.7.0)\n",
            "Requirement already satisfied: requests-oauthlib>=0.7.0 in /usr/local/lib/python3.6/dist-packages (from google-auth-oauthlib<0.5,>=0.4.1->tensorboard<2.1.0,>=2.0.0->tensorflow==2.0.0) (1.3.0)\n",
            "Requirement already satisfied: cachetools<5.0,>=2.0.0 in /usr/local/lib/python3.6/dist-packages (from google-auth<2,>=1.6.3->tensorboard<2.1.0,>=2.0.0->tensorflow==2.0.0) (4.1.1)\n",
            "Requirement already satisfied: rsa<5,>=3.1.4; python_version >= \"3\" in /usr/local/lib/python3.6/dist-packages (from google-auth<2,>=1.6.3->tensorboard<2.1.0,>=2.0.0->tensorflow==2.0.0) (4.6)\n",
            "Requirement already satisfied: pyasn1-modules>=0.2.1 in /usr/local/lib/python3.6/dist-packages (from google-auth<2,>=1.6.3->tensorboard<2.1.0,>=2.0.0->tensorflow==2.0.0) (0.2.8)\n",
            "Requirement already satisfied: zipp>=0.5 in /usr/local/lib/python3.6/dist-packages (from importlib-metadata; python_version < \"3.8\"->markdown>=2.6.8->tensorboard<2.1.0,>=2.0.0->tensorflow==2.0.0) (3.1.0)\n",
            "Requirement already satisfied: oauthlib>=3.0.0 in /usr/local/lib/python3.6/dist-packages (from requests-oauthlib>=0.7.0->google-auth-oauthlib<0.5,>=0.4.1->tensorboard<2.1.0,>=2.0.0->tensorflow==2.0.0) (3.1.0)\n",
            "Requirement already satisfied: pyasn1>=0.1.3 in /usr/local/lib/python3.6/dist-packages (from rsa<5,>=3.1.4; python_version >= \"3\"->google-auth<2,>=1.6.3->tensorboard<2.1.0,>=2.0.0->tensorflow==2.0.0) (0.4.8)\n"
          ],
          "name": "stdout"
        }
      ]
    },
    {
      "cell_type": "markdown",
      "metadata": {
        "colab_type": "text",
        "id": "eiB8bJNYn8oP"
      },
      "source": [
        "#### Imports and image generator functions\n",
        "\n",
        "In the next two cells, we load all the required libraries and functions. We define two functions to generate images with vertical and horizontal images. "
      ]
    },
    {
      "cell_type": "code",
      "metadata": {
        "id": "2CahmsWJfyee",
        "colab_type": "code",
        "colab": {}
      },
      "source": [
        "try: #If running in colab \n",
        "    import google.colab\n",
        "    IN_COLAB = True \n",
        "    %tensorflow_version 2.x\n",
        "except:\n",
        "    IN_COLAB = False"
      ],
      "execution_count": 2,
      "outputs": []
    },
    {
      "cell_type": "code",
      "metadata": {
        "id": "dcjno7cXfzPN",
        "colab_type": "code",
        "colab": {
          "base_uri": "https://localhost:8080/",
          "height": 34
        },
        "outputId": "4e9fec44-e5b0-4c3e-a487-6b450189287b"
      },
      "source": [
        "import tensorflow as tf\n",
        "if (not tf.__version__.startswith('2')): #Checking if tf 2.0 is installed\n",
        "    print('Please install tensorflow 2.0 to run this notebook')\n",
        "print('Tensorflow version: ',tf.__version__, ' running in colab?: ', IN_COLAB)"
      ],
      "execution_count": 3,
      "outputs": [
        {
          "output_type": "stream",
          "text": [
            "Tensorflow version:  2.0.0  running in colab?:  True\n"
          ],
          "name": "stdout"
        }
      ]
    },
    {
      "cell_type": "code",
      "metadata": {
        "colab_type": "code",
        "id": "2PDLAWRQ7iUB",
        "colab": {}
      },
      "source": [
        "# load required libraries:\n",
        "import numpy as np\n",
        "import matplotlib.pyplot as plt\n",
        "%matplotlib inline\n",
        "plt.style.use('default')\n",
        "\n",
        "import tensorflow.keras \n",
        "from tensorflow.keras.models import Sequential\n",
        "from tensorflow.keras.layers import Dense, Convolution2D, MaxPooling2D, Flatten , Activation\n",
        "from tensorflow.keras.utils import to_categorical "
      ],
      "execution_count": 4,
      "outputs": []
    },
    {
      "cell_type": "markdown",
      "metadata": {
        "colab_type": "text",
        "id": "Oq0FNqcBpj23"
      },
      "source": [
        "### Defining functions to generate images \n",
        "\n",
        "Here we define the function to genere images with vertical and horizontal bars, the arguments of the functions are the size of the image and the nr of bars you want to have. The bars are at random positions in the image with a random length. The image is black and white, meaning we have only two values for the pixels, 0 for black and 255 for white."
      ]
    },
    {
      "cell_type": "code",
      "metadata": {
        "colab_type": "code",
        "id": "nqVBlR8yAO9c",
        "colab": {}
      },
      "source": [
        "#define function to generate image with shape (size, size, 1) with stripes\n",
        "def generate_image_with_bars(size, bar_nr, vertical = True):\n",
        "  img=np.zeros((size,size,1),dtype=\"uint8\")\n",
        "  for i in range(0,bar_nr):\n",
        "    x,y = np.random.randint(0,size,2)\n",
        "    l  = np.int(np.random.randint(y,size,1))\n",
        "    if (vertical):\n",
        "      img[y:l,x,0]=255\n",
        "    else:\n",
        "      img[x,y:l,0]=255\n",
        "  return img  "
      ],
      "execution_count": 5,
      "outputs": []
    },
    {
      "cell_type": "markdown",
      "metadata": {
        "colab_type": "text",
        "id": "bUmdGzQLdqzB"
      },
      "source": [
        "Let's have a look how the generated images. We choose a size of 50x50 pixels and set the nr of bars in the image to 10. "
      ]
    },
    {
      "cell_type": "code",
      "metadata": {
        "colab_type": "code",
        "id": "EccLz0FlXGuU",
        "colab": {
          "base_uri": "https://localhost:8080/",
          "height": 362
        },
        "outputId": "e19cd292-fab3-4dd4-bfc9-9808f93c7d20"
      },
      "source": [
        "# have a look on two generated images\n",
        "plt.figure(figsize=(8,8))\n",
        "plt.subplot(1,2,1)\n",
        "img=generate_image_with_bars(50,10, vertical=True)\n",
        "plt.imshow(img[:,:,0],cmap='gray')\n",
        "plt.subplot(1,2,2)\n",
        "img=generate_image_with_bars(50,10, vertical=False)\n",
        "plt.imshow(img[:,:,0],cmap='gray')"
      ],
      "execution_count": 6,
      "outputs": [
        {
          "output_type": "execute_result",
          "data": {
            "text/plain": [
              "<matplotlib.image.AxesImage at 0x7efbb6172e48>"
            ]
          },
          "metadata": {
            "tags": []
          },
          "execution_count": 6
        },
        {
          "output_type": "display_data",
          "data": {
            "image/png": "[encoded data removed]",
            "text/plain": [
              "<Figure size 800x800 with 2 Axes>"
            ]
          },
          "metadata": {
            "tags": []
          }
        }
      ]
    },
    {
      "cell_type": "markdown",
      "metadata": {
        "colab_type": "text",
        "id": "Y8gSwmyaevTk"
      },
      "source": [
        "### Make a train and validation dataset of images with vertical and horizontal images\n",
        "Now, let's make a train dataset *X_train* with 1000 images (500 images with vertical and 500 images with horizontal bars). We normalize the images values to be between 0 and 1 by dividing all values with 255. We create a secont dataset *X_val* with exactly the same properties to validate the training of the CNN."
      ]
    },
    {
      "cell_type": "code",
      "metadata": {
        "colab_type": "code",
        "id": "63omuptEILKu",
        "colab": {
          "base_uri": "https://localhost:8080/",
          "height": 51
        },
        "outputId": "c1b63397-1539-4c26-c3b0-7b6e96778049"
      },
      "source": [
        "pixel=50  # define height and width of images\n",
        "num_images_train = 1000 #Number of training examples (divisible by 2) \n",
        "num_images_val = 1000 #Number of training examples (divisible by 2) \n",
        "\n",
        "# generate training data with vertical edges\n",
        "X_train =np.zeros((num_images_train,pixel,pixel,1))\n",
        "for i in range(0, num_images_train//2):\n",
        "   X_train[i]=generate_image_with_bars(pixel,10)\n",
        "# ... with horizontal\n",
        "for i in range(num_images_train//2, num_images_train):\n",
        "   X_train[i]=generate_image_with_bars(pixel,10, vertical=False)\n",
        "\n",
        "# generate validation data \n",
        "X_val =np.zeros((num_images_train,pixel,pixel,1))\n",
        "for i in range(0, num_images_train//2): \n",
        "   X_val[i]=generate_image_with_bars(pixel,10)\n",
        "# ... with horizontal\n",
        "for i in range(num_images_train//2, num_images_train):\n",
        "   X_val[i]=generate_image_with_bars(pixel,10, vertical=False)\n",
        "\n",
        "\n",
        "# normalize the data to be between 0 and 1\n",
        "X_train=X_train/255\n",
        "X_val=X_val/255\n",
        "\n",
        "print(X_train.shape)\n",
        "print(X_val.shape)"
      ],
      "execution_count": 7,
      "outputs": [
        {
          "output_type": "stream",
          "text": [
            "(1000, 50, 50, 1)\n",
            "(1000, 50, 50, 1)\n"
          ],
          "name": "stdout"
        }
      ]
    },
    {
      "cell_type": "markdown",
      "metadata": {
        "colab_type": "text",
        "id": "ajNnUoYyi7IQ"
      },
      "source": [
        "Here we make the labels for the art lover, 0 means he likes the image and 1 means that he doesn't like it. We convert the labels into the one hot encoding becuase we want to use two outputs in our network."
      ]
    },
    {
      "cell_type": "code",
      "metadata": {
        "colab_type": "code",
        "id": "41-L5hM8S_ZP",
        "colab": {}
      },
      "source": [
        "# create class labels\n",
        "y = np.array([[0],[1]])\n",
        "Y_train = np.repeat(y, num_images_train //2)\n",
        "Y_val = np.repeat(y, num_images_train //2)\n",
        "\n",
        "# one-hot-encoding\n",
        "Y_train=to_categorical(Y_train,2)\n",
        "Y_val=to_categorical(Y_val,2)"
      ],
      "execution_count": 8,
      "outputs": []
    },
    {
      "cell_type": "markdown",
      "metadata": {
        "colab_type": "text",
        "id": "uZpr0h-VvatF"
      },
      "source": [
        "## Defining the CNN to predict which images the art lover likes\n",
        "\n",
        "Here we define the kind of special architecture of the CNN: \n",
        "\n",
        ">we use only one kernel with a size of 5x5 pixels  \n",
        ">then we apply a linar activation function  \n",
        ">the maxpooling layer takes the maximum of the whole activation map to predict the probability (output layer with softmax) if the art lover will like the image\n",
        "\n",
        "as loss we use the categorical_crossentropy and we train for 20 epochs with a batchsize of 64 images per update.\n"
      ]
    },
    {
      "cell_type": "markdown",
      "metadata": {
        "id": "F-0ZP6W_klrY",
        "colab_type": "text"
      },
      "source": [
        "#### Listing 2.5 Edge lover CNN                                                                                                                      "
      ]
    },
    {
      "cell_type": "code",
      "metadata": {
        "colab_type": "code",
        "id": "1Dfg1h2rUifd",
        "colab": {}
      },
      "source": [
        "model = Sequential()\n",
        "\n",
        "model.add(Convolution2D(1,(5,5),padding='same',input_shape=(pixel,pixel,1)))\n",
        "model.add(Activation('linear'))\n",
        "\n",
        "# take the max over all values in the activation map\n",
        "model.add(MaxPooling2D(pool_size=(pixel,pixel)))\n",
        "model.add(Flatten()) \n",
        "model.add(Dense(2))\n",
        "model.add(Activation('softmax'))\n",
        "\n",
        "# compile model and initialize weights\n",
        "model.compile(loss='categorical_crossentropy',\n",
        "              optimizer='adam',\n",
        "              metrics=['accuracy'])\n"
      ],
      "execution_count": 9,
      "outputs": []
    },
    {
      "cell_type": "code",
      "metadata": {
        "colab_type": "code",
        "id": "r6eqV0TRU0_n",
        "colab": {
          "base_uri": "https://localhost:8080/",
          "height": 357
        },
        "outputId": "bf2c3cef-d031-4f80-a940-c1e2bf68fa24"
      },
      "source": [
        "# let's summarize the CNN architectures along with the number of model weights\n",
        "model.summary()\n"
      ],
      "execution_count": 10,
      "outputs": [
        {
          "output_type": "stream",
          "text": [
            "Model: \"sequential\"\n",
            "_________________________________________________________________\n",
            "Layer (type)                 Output Shape              Param #   \n",
            "=================================================================\n",
            "conv2d (Conv2D)              (None, 50, 50, 1)         26        \n",
            "_________________________________________________________________\n",
            "activation (Activation)      (None, 50, 50, 1)         0         \n",
            "_________________________________________________________________\n",
            "max_pooling2d (MaxPooling2D) (None, 1, 1, 1)           0         \n",
            "_________________________________________________________________\n",
            "flatten (Flatten)            (None, 1)                 0         \n",
            "_________________________________________________________________\n",
            "dense (Dense)                (None, 2)                 4         \n",
            "_________________________________________________________________\n",
            "activation_1 (Activation)    (None, 2)                 0         \n",
            "=================================================================\n",
            "Total params: 30\n",
            "Trainable params: 30\n",
            "Non-trainable params: 0\n",
            "_________________________________________________________________\n"
          ],
          "name": "stdout"
        }
      ]
    },
    {
      "cell_type": "code",
      "metadata": {
        "colab_type": "code",
        "id": "Sc-BYd8kVCx0",
        "colab": {
          "base_uri": "https://localhost:8080/",
          "height": 1000
        },
        "outputId": "d9f4fbd8-7c7d-4b4c-8798-f17cd0a47921"
      },
      "source": [
        "# train the model\n",
        "history=model.fit(X_train, Y_train,\n",
        "                  validation_data=(X_val,Y_val),\n",
        "                  batch_size=64, \n",
        "                  epochs=50,\n",
        "                  verbose=1,\n",
        "                  shuffle=True) "
      ],
      "execution_count": 11,
      "outputs": [
        {
          "output_type": "stream",
          "text": [
            "Train on 1000 samples, validate on 1000 samples\n",
            "Epoch 1/50\n",
            "1000/1000 [==============================] - 3s 3ms/sample - loss: 0.6608 - accuracy: 0.5000 - val_loss: 0.6557 - val_accuracy: 0.5000\n",
            "Epoch 2/50\n",
            "1000/1000 [==============================] - 0s 130us/sample - loss: 0.6513 - accuracy: 0.5000 - val_loss: 0.6456 - val_accuracy: 0.5000\n",
            "Epoch 3/50\n",
            "1000/1000 [==============================] - 0s 137us/sample - loss: 0.6403 - accuracy: 0.5000 - val_loss: 0.6334 - val_accuracy: 0.5000\n",
            "Epoch 4/50\n",
            "1000/1000 [==============================] - 0s 129us/sample - loss: 0.6271 - accuracy: 0.5000 - val_loss: 0.6195 - val_accuracy: 0.5000\n",
            "Epoch 5/50\n",
            "1000/1000 [==============================] - 0s 133us/sample - loss: 0.6126 - accuracy: 0.5230 - val_loss: 0.6046 - val_accuracy: 0.5740\n",
            "Epoch 6/50\n",
            "1000/1000 [==============================] - 0s 129us/sample - loss: 0.5971 - accuracy: 0.5930 - val_loss: 0.5884 - val_accuracy: 0.5830\n",
            "Epoch 7/50\n",
            "1000/1000 [==============================] - 0s 145us/sample - loss: 0.5805 - accuracy: 0.6570 - val_loss: 0.5718 - val_accuracy: 0.7920\n",
            "Epoch 8/50\n",
            "1000/1000 [==============================] - 0s 127us/sample - loss: 0.5636 - accuracy: 0.8380 - val_loss: 0.5544 - val_accuracy: 0.8920\n",
            "Epoch 9/50\n",
            "1000/1000 [==============================] - 0s 132us/sample - loss: 0.5458 - accuracy: 0.9400 - val_loss: 0.5366 - val_accuracy: 0.9610\n",
            "Epoch 10/50\n",
            "1000/1000 [==============================] - 0s 131us/sample - loss: 0.5278 - accuracy: 0.9670 - val_loss: 0.5183 - val_accuracy: 0.9650\n",
            "Epoch 11/50\n",
            "1000/1000 [==============================] - 0s 152us/sample - loss: 0.5095 - accuracy: 0.9730 - val_loss: 0.4999 - val_accuracy: 0.9700\n",
            "Epoch 12/50\n",
            "1000/1000 [==============================] - 0s 133us/sample - loss: 0.4911 - accuracy: 0.9780 - val_loss: 0.4814 - val_accuracy: 0.9880\n",
            "Epoch 13/50\n",
            "1000/1000 [==============================] - 0s 132us/sample - loss: 0.4727 - accuracy: 0.9880 - val_loss: 0.4629 - val_accuracy: 0.9900\n",
            "Epoch 14/50\n",
            "1000/1000 [==============================] - 0s 127us/sample - loss: 0.4543 - accuracy: 0.9970 - val_loss: 0.4447 - val_accuracy: 0.9980\n",
            "Epoch 15/50\n",
            "1000/1000 [==============================] - 0s 143us/sample - loss: 0.4359 - accuracy: 0.9990 - val_loss: 0.4264 - val_accuracy: 0.9980\n",
            "Epoch 16/50\n",
            "1000/1000 [==============================] - 0s 134us/sample - loss: 0.4178 - accuracy: 0.9990 - val_loss: 0.4082 - val_accuracy: 0.9990\n",
            "Epoch 17/50\n",
            "1000/1000 [==============================] - 0s 127us/sample - loss: 0.4000 - accuracy: 0.9990 - val_loss: 0.3906 - val_accuracy: 0.9990\n",
            "Epoch 18/50\n",
            "1000/1000 [==============================] - 0s 136us/sample - loss: 0.3825 - accuracy: 0.9990 - val_loss: 0.3732 - val_accuracy: 0.9990\n",
            "Epoch 19/50\n",
            "1000/1000 [==============================] - 0s 133us/sample - loss: 0.3655 - accuracy: 0.9990 - val_loss: 0.3563 - val_accuracy: 1.0000\n",
            "Epoch 20/50\n",
            "1000/1000 [==============================] - 0s 129us/sample - loss: 0.3489 - accuracy: 0.9990 - val_loss: 0.3399 - val_accuracy: 1.0000\n",
            "Epoch 21/50\n",
            "1000/1000 [==============================] - 0s 135us/sample - loss: 0.3329 - accuracy: 0.9990 - val_loss: 0.3241 - val_accuracy: 1.0000\n",
            "Epoch 22/50\n",
            "1000/1000 [==============================] - 0s 139us/sample - loss: 0.3174 - accuracy: 0.9990 - val_loss: 0.3088 - val_accuracy: 1.0000\n",
            "Epoch 23/50\n",
            "1000/1000 [==============================] - 0s 129us/sample - loss: 0.3024 - accuracy: 0.9990 - val_loss: 0.2940 - val_accuracy: 1.0000\n",
            "Epoch 24/50\n",
            "1000/1000 [==============================] - 0s 133us/sample - loss: 0.2881 - accuracy: 0.9990 - val_loss: 0.2800 - val_accuracy: 1.0000\n",
            "Epoch 25/50\n",
            "1000/1000 [==============================] - 0s 133us/sample - loss: 0.2745 - accuracy: 0.9990 - val_loss: 0.2666 - val_accuracy: 1.0000\n",
            "Epoch 26/50\n",
            "1000/1000 [==============================] - 0s 138us/sample - loss: 0.2616 - accuracy: 0.9990 - val_loss: 0.2539 - val_accuracy: 1.0000\n",
            "Epoch 27/50\n",
            "1000/1000 [==============================] - 0s 132us/sample - loss: 0.2491 - accuracy: 1.0000 - val_loss: 0.2418 - val_accuracy: 1.0000\n",
            "Epoch 28/50\n",
            "1000/1000 [==============================] - 0s 129us/sample - loss: 0.2373 - accuracy: 1.0000 - val_loss: 0.2303 - val_accuracy: 1.0000\n",
            "Epoch 29/50\n",
            "1000/1000 [==============================] - 0s 128us/sample - loss: 0.2261 - accuracy: 1.0000 - val_loss: 0.2195 - val_accuracy: 1.0000\n",
            "Epoch 30/50\n",
            "1000/1000 [==============================] - 0s 144us/sample - loss: 0.2156 - accuracy: 1.0000 - val_loss: 0.2092 - val_accuracy: 1.0000\n",
            "Epoch 31/50\n",
            "1000/1000 [==============================] - 0s 129us/sample - loss: 0.2056 - accuracy: 1.0000 - val_loss: 0.1995 - val_accuracy: 1.0000\n",
            "Epoch 32/50\n",
            "1000/1000 [==============================] - 0s 134us/sample - loss: 0.1961 - accuracy: 1.0000 - val_loss: 0.1903 - val_accuracy: 1.0000\n",
            "Epoch 33/50\n",
            "1000/1000 [==============================] - 0s 138us/sample - loss: 0.1871 - accuracy: 1.0000 - val_loss: 0.1816 - val_accuracy: 1.0000\n",
            "Epoch 34/50\n",
            "1000/1000 [==============================] - 0s 132us/sample - loss: 0.1786 - accuracy: 1.0000 - val_loss: 0.1732 - val_accuracy: 1.0000\n",
            "Epoch 35/50\n",
            "1000/1000 [==============================] - 0s 131us/sample - loss: 0.1705 - accuracy: 1.0000 - val_loss: 0.1653 - val_accuracy: 1.0000\n",
            "Epoch 36/50\n",
            "1000/1000 [==============================] - 0s 128us/sample - loss: 0.1628 - accuracy: 1.0000 - val_loss: 0.1579 - val_accuracy: 1.0000\n",
            "Epoch 37/50\n",
            "1000/1000 [==============================] - 0s 133us/sample - loss: 0.1555 - accuracy: 1.0000 - val_loss: 0.1508 - val_accuracy: 1.0000\n",
            "Epoch 38/50\n",
            "1000/1000 [==============================] - 0s 137us/sample - loss: 0.1487 - accuracy: 1.0000 - val_loss: 0.1441 - val_accuracy: 1.0000\n",
            "Epoch 39/50\n",
            "1000/1000 [==============================] - 0s 138us/sample - loss: 0.1422 - accuracy: 1.0000 - val_loss: 0.1378 - val_accuracy: 1.0000\n",
            "Epoch 40/50\n",
            "1000/1000 [==============================] - 0s 139us/sample - loss: 0.1360 - accuracy: 1.0000 - val_loss: 0.1318 - val_accuracy: 1.0000\n",
            "Epoch 41/50\n",
            "1000/1000 [==============================] - 0s 142us/sample - loss: 0.1301 - accuracy: 1.0000 - val_loss: 0.1261 - val_accuracy: 1.0000\n",
            "Epoch 42/50\n",
            "1000/1000 [==============================] - 0s 135us/sample - loss: 0.1246 - accuracy: 1.0000 - val_loss: 0.1207 - val_accuracy: 1.0000\n",
            "Epoch 43/50\n",
            "1000/1000 [==============================] - 0s 132us/sample - loss: 0.1193 - accuracy: 1.0000 - val_loss: 0.1156 - val_accuracy: 1.0000\n",
            "Epoch 44/50\n",
            "1000/1000 [==============================] - 0s 139us/sample - loss: 0.1143 - accuracy: 1.0000 - val_loss: 0.1108 - val_accuracy: 1.0000\n",
            "Epoch 45/50\n",
            "1000/1000 [==============================] - 0s 138us/sample - loss: 0.1096 - accuracy: 1.0000 - val_loss: 0.1062 - val_accuracy: 1.0000\n",
            "Epoch 46/50\n",
            "1000/1000 [==============================] - 0s 128us/sample - loss: 0.1051 - accuracy: 1.0000 - val_loss: 0.1018 - val_accuracy: 1.0000\n",
            "Epoch 47/50\n",
            "1000/1000 [==============================] - 0s 140us/sample - loss: 0.1009 - accuracy: 1.0000 - val_loss: 0.0977 - val_accuracy: 1.0000\n",
            "Epoch 48/50\n",
            "1000/1000 [==============================] - 0s 135us/sample - loss: 0.0969 - accuracy: 1.0000 - val_loss: 0.0937 - val_accuracy: 1.0000\n",
            "Epoch 49/50\n",
            "1000/1000 [==============================] - 0s 133us/sample - loss: 0.0930 - accuracy: 1.0000 - val_loss: 0.0900 - val_accuracy: 1.0000\n",
            "Epoch 50/50\n",
            "1000/1000 [==============================] - 0s 128us/sample - loss: 0.0894 - accuracy: 1.0000 - val_loss: 0.0865 - val_accuracy: 1.0000\n"
          ],
          "name": "stdout"
        }
      ]
    },
    {
      "cell_type": "code",
      "metadata": {
        "colab_type": "code",
        "id": "fK_AAAoiQtlc",
        "colab": {
          "base_uri": "https://localhost:8080/",
          "height": 427
        },
        "outputId": "308015f1-814c-4ef8-ee3b-eda55f65a9fb"
      },
      "source": [
        "# plot the development of the accuracy and loss during training\n",
        "plt.figure(figsize=(12,4))\n",
        "plt.subplot(1,2,(1))\n",
        "plt.plot(history.history['accuracy'],linestyle='-.')\n",
        "plt.plot(history.history['val_accuracy'])\n",
        "plt.title('model accuracy')\n",
        "plt.ylabel('accuracy')\n",
        "plt.xlabel('epoch')\n",
        "plt.legend(['train', 'valid'], loc='lower right')\n",
        "plt.subplot(1,2,(2))\n",
        "plt.plot(history.history['loss'],linestyle='-.')\n",
        "plt.plot(history.history['val_loss'])\n",
        "plt.title('model loss')\n",
        "plt.ylabel('loss')\n",
        "plt.xlabel('epoch')\n",
        "plt.legend(['train', 'valid'], loc='upper right')"
      ],
      "execution_count": 12,
      "outputs": [
        {
          "output_type": "execute_result",
          "data": {
            "text/plain": [
              "<matplotlib.legend.Legend at 0x7efb5bf8ebe0>"
            ]
          },
          "metadata": {
            "tags": []
          },
          "execution_count": 12
        },
        {
          "output_type": "display_data",
          "data": {
            "image/png": "[encoded data removed]",
            "text/plain": [
              "<Figure size 1200x400 with 2 Axes>"
            ]
          },
          "metadata": {
            "tags": []
          }
        }
      ]
    },
    {
      "cell_type": "markdown",
      "metadata": {
        "colab_type": "text",
        "id": "uOwR3Esbw8eN"
      },
      "source": [
        "### Visualize the learned kernel and experiment with the code\n",
        "\n",
        "You see that the CNN performs very good at this task (100% accuracy). We can check which pattern is recognized by the learned kernel and see if you think that this is helpful to distinguish between images with horizontal and vertical edges. \n"
      ]
    },
    {
      "cell_type": "code",
      "metadata": {
        "colab_type": "code",
        "id": "pl1yuAddVRnE",
        "colab": {
          "base_uri": "https://localhost:8080/",
          "height": 447
        },
        "outputId": "c44c3489-23f1-4e49-82b2-cf1887904a67"
      },
      "source": [
        "# get the leared weights and display them as image\n",
        "conv_filter=model.get_weights()[0]\n",
        "conv_filter.shape\n",
        "conv_filter=np.squeeze(conv_filter, axis=2)\n",
        "plt.imshow(conv_filter[:,:,0],\"gray\")"
      ],
      "execution_count": 13,
      "outputs": [
        {
          "output_type": "execute_result",
          "data": {
            "text/plain": [
              "<matplotlib.image.AxesImage at 0x7efb5bec59e8>"
            ]
          },
          "metadata": {
            "tags": []
          },
          "execution_count": 13
        },
        {
          "output_type": "display_data",
          "data": {
            "image/png": "[encoded data removed]",
            "text/plain": [
              "<Figure size 640x480 with 1 Axes>"
            ]
          },
          "metadata": {
            "tags": []
          }
        }
      ]
    },
    {
      "cell_type": "markdown",
      "metadata": {
        "colab_type": "text",
        "id": "U4gnnlAPp_Q2"
      },
      "source": [
        "#### Repeat the training and exerpiment with the kernelsize and activation function.<img src=\"https://raw.githubusercontent.com/tensorchiefs/dl_book/master/imgs/paper-pen.png\" width=\"60\" align=\"left\" />\n",
        "*Exercise: Repeat the compiling and training for several times and check if the CNN always learns the same kernel.  \n",
        "You can experiment with the code and check what happens if you use another kernel size, activation function (relu instead of linear ) or pooling method AveragePooling instead of MaxPooling.  \n",
        "Try to make a prediction before doing the experiment.*\n",
        "\n",
        "\n"
      ]
    },
    {
      "cell_type": "code",
      "metadata": {
        "id": "fRlCUwpVoy69",
        "colab_type": "code",
        "colab": {}
      },
      "source": [
        ""
      ],
      "execution_count": 13,
      "outputs": []
    }
  ]
}
